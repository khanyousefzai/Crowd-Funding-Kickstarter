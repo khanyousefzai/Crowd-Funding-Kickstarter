{
  "nbformat": 4,
  "nbformat_minor": 0,
  "metadata": {
    "colab": {
      "name": "ITEC-5920 project.ipynb",
      "version": "0.3.2",
      "provenance": [],
      "collapsed_sections": []
    },
    "kernelspec": {
      "name": "python3",
      "display_name": "Python 3"
    }
  },
  "cells": [
    {
      "metadata": {
        "id": "iTyVmJOGJefH",
        "colab_type": "code",
        "outputId": "76b4eca1-fc2b-4aae-f326-d2b2ea1711e8",
        "colab": {
          "resources": {
            "http://localhost:8080/nbextensions/google.colab/files.js": {
              "data": "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",
              "ok": true,
              "headers": [
                [
                  "content-type",
                  "application/javascript"
                ]
              ],
              "status": 200,
              "status_text": ""
            }
          },
          "base_uri": "https://localhost:8080/",
          "height": 75
        }
      },
      "cell_type": "code",
      "source": [
        "from google.colab import files\n",
        "uploaded = files.upload()"
      ],
      "execution_count": 4,
      "outputs": [
        {
          "output_type": "display_data",
          "data": {
            "text/html": [
              "\n",
              "     <input type=\"file\" id=\"files-d54e267f-6731-475a-bf36-d3b74c8cc1d6\" name=\"files[]\" multiple disabled />\n",
              "     <output id=\"result-d54e267f-6731-475a-bf36-d3b74c8cc1d6\">\n",
              "      Upload widget is only available when the cell has been executed in the\n",
              "      current browser session. Please rerun this cell to enable.\n",
              "      </output>\n",
              "      <script src=\"/nbextensions/google.colab/files.js\"></script> "
            ],
            "text/plain": [
              "<IPython.core.display.HTML object>"
            ]
          },
          "metadata": {
            "tags": []
          }
        },
        {
          "output_type": "stream",
          "text": [
            "Saving downsamp.csv to downsamp.csv\n"
          ],
          "name": "stdout"
        }
      ]
    },
    {
      "metadata": {
        "id": "UkqF1hb5LzNS",
        "colab_type": "code",
        "outputId": "c1e38e43-994c-4ebb-cde0-99ceb019d78f",
        "colab": {
          "base_uri": "https://localhost:8080/",
          "height": 35
        }
      },
      "cell_type": "code",
      "source": [
        "#library imports\n",
        "import numpy as np\n",
        "import pandas as pd\n",
        "import keras\n",
        "from keras.models import Sequential\n",
        "from keras.layers import Dense, Dropout, Activation\n",
        "from keras.utils import plot_model\n",
        "from keras.optimizers import SGD\n",
        "import io\n",
        "from sklearn.model_selection import train_test_split\n",
        "import matplotlib.pyplot as plt\n",
        "import seaborn as sns"
      ],
      "execution_count": 5,
      "outputs": [
        {
          "output_type": "stream",
          "text": [
            "Using TensorFlow backend.\n"
          ],
          "name": "stderr"
        }
      ]
    },
    {
      "metadata": {
        "id": "1eD6iVwWL_mo",
        "colab_type": "code",
        "outputId": "ec124f19-99b5-4de4-91cc-8ab0acc61ad0",
        "colab": {
          "base_uri": "https://localhost:8080/",
          "height": 265
        }
      },
      "cell_type": "code",
      "source": [
        "df = pd.read_csv(io.BytesIO(uploaded['downsamp.csv']))\n",
        "#data.drop(data.columns[0], axis=1)\n",
        "del df['kut']\n",
        "df.head()"
      ],
      "execution_count": 6,
      "outputs": [
        {
          "output_type": "execute_result",
          "data": {
            "text/html": [
              "<div>\n",
              "<style scoped>\n",
              "    .dataframe tbody tr th:only-of-type {\n",
              "        vertical-align: middle;\n",
              "    }\n",
              "\n",
              "    .dataframe tbody tr th {\n",
              "        vertical-align: top;\n",
              "    }\n",
              "\n",
              "    .dataframe thead th {\n",
              "        text-align: right;\n",
              "    }\n",
              "</style>\n",
              "<table border=\"1\" class=\"dataframe\">\n",
              "  <thead>\n",
              "    <tr style=\"text-align: right;\">\n",
              "      <th></th>\n",
              "      <th>state</th>\n",
              "      <th>backers</th>\n",
              "      <th>usd_pledged_real</th>\n",
              "      <th>usd_goal_real</th>\n",
              "      <th>date_diff</th>\n",
              "      <th>main_category_Publishing</th>\n",
              "      <th>main_category_Film &amp; Video</th>\n",
              "      <th>main_category_Music</th>\n",
              "      <th>main_category_Food</th>\n",
              "      <th>main_category_Design</th>\n",
              "      <th>...</th>\n",
              "      <th>country_NL</th>\n",
              "      <th>country_NZ</th>\n",
              "      <th>country_CH</th>\n",
              "      <th>country_AT</th>\n",
              "      <th>country_BE</th>\n",
              "      <th>country_DK</th>\n",
              "      <th>country_HK</th>\n",
              "      <th>country_LU</th>\n",
              "      <th>country_SG</th>\n",
              "      <th>country_JP</th>\n",
              "    </tr>\n",
              "  </thead>\n",
              "  <tbody>\n",
              "    <tr>\n",
              "      <th>0</th>\n",
              "      <td>1</td>\n",
              "      <td>0.002603</td>\n",
              "      <td>0.002074</td>\n",
              "      <td>9.200000e-05</td>\n",
              "      <td>0.001951</td>\n",
              "      <td>0</td>\n",
              "      <td>1</td>\n",
              "      <td>0</td>\n",
              "      <td>0</td>\n",
              "      <td>0</td>\n",
              "      <td>...</td>\n",
              "      <td>0</td>\n",
              "      <td>0</td>\n",
              "      <td>0</td>\n",
              "      <td>0</td>\n",
              "      <td>0</td>\n",
              "      <td>0</td>\n",
              "      <td>0</td>\n",
              "      <td>0</td>\n",
              "      <td>0</td>\n",
              "      <td>0</td>\n",
              "    </tr>\n",
              "    <tr>\n",
              "      <th>1</th>\n",
              "      <td>1</td>\n",
              "      <td>0.000123</td>\n",
              "      <td>0.000008</td>\n",
              "      <td>8.590000e-07</td>\n",
              "      <td>0.001951</td>\n",
              "      <td>0</td>\n",
              "      <td>0</td>\n",
              "      <td>0</td>\n",
              "      <td>0</td>\n",
              "      <td>0</td>\n",
              "      <td>...</td>\n",
              "      <td>0</td>\n",
              "      <td>0</td>\n",
              "      <td>0</td>\n",
              "      <td>0</td>\n",
              "      <td>0</td>\n",
              "      <td>0</td>\n",
              "      <td>0</td>\n",
              "      <td>0</td>\n",
              "      <td>0</td>\n",
              "      <td>0</td>\n",
              "    </tr>\n",
              "    <tr>\n",
              "      <th>2</th>\n",
              "      <td>0</td>\n",
              "      <td>0.000005</td>\n",
              "      <td>0.000002</td>\n",
              "      <td>3.110000e-05</td>\n",
              "      <td>0.001951</td>\n",
              "      <td>0</td>\n",
              "      <td>0</td>\n",
              "      <td>0</td>\n",
              "      <td>1</td>\n",
              "      <td>0</td>\n",
              "      <td>...</td>\n",
              "      <td>0</td>\n",
              "      <td>0</td>\n",
              "      <td>0</td>\n",
              "      <td>0</td>\n",
              "      <td>0</td>\n",
              "      <td>0</td>\n",
              "      <td>0</td>\n",
              "      <td>0</td>\n",
              "      <td>0</td>\n",
              "      <td>0</td>\n",
              "    </tr>\n",
              "    <tr>\n",
              "      <th>3</th>\n",
              "      <td>0</td>\n",
              "      <td>0.000137</td>\n",
              "      <td>0.000069</td>\n",
              "      <td>1.502750e-04</td>\n",
              "      <td>0.002623</td>\n",
              "      <td>0</td>\n",
              "      <td>0</td>\n",
              "      <td>0</td>\n",
              "      <td>0</td>\n",
              "      <td>0</td>\n",
              "      <td>...</td>\n",
              "      <td>0</td>\n",
              "      <td>0</td>\n",
              "      <td>0</td>\n",
              "      <td>0</td>\n",
              "      <td>0</td>\n",
              "      <td>0</td>\n",
              "      <td>0</td>\n",
              "      <td>0</td>\n",
              "      <td>0</td>\n",
              "      <td>0</td>\n",
              "    </tr>\n",
              "    <tr>\n",
              "      <th>4</th>\n",
              "      <td>0</td>\n",
              "      <td>0.000246</td>\n",
              "      <td>0.000068</td>\n",
              "      <td>6.010000e-05</td>\n",
              "      <td>0.001951</td>\n",
              "      <td>0</td>\n",
              "      <td>1</td>\n",
              "      <td>0</td>\n",
              "      <td>0</td>\n",
              "      <td>0</td>\n",
              "      <td>...</td>\n",
              "      <td>0</td>\n",
              "      <td>0</td>\n",
              "      <td>0</td>\n",
              "      <td>0</td>\n",
              "      <td>0</td>\n",
              "      <td>0</td>\n",
              "      <td>0</td>\n",
              "      <td>0</td>\n",
              "      <td>0</td>\n",
              "      <td>0</td>\n",
              "    </tr>\n",
              "  </tbody>\n",
              "</table>\n",
              "<p>5 rows × 42 columns</p>\n",
              "</div>"
            ],
            "text/plain": [
              "   state   backers  usd_pledged_real  usd_goal_real  date_diff  \\\n",
              "0      1  0.002603          0.002074   9.200000e-05   0.001951   \n",
              "1      1  0.000123          0.000008   8.590000e-07   0.001951   \n",
              "2      0  0.000005          0.000002   3.110000e-05   0.001951   \n",
              "3      0  0.000137          0.000069   1.502750e-04   0.002623   \n",
              "4      0  0.000246          0.000068   6.010000e-05   0.001951   \n",
              "\n",
              "   main_category_Publishing  main_category_Film & Video  main_category_Music  \\\n",
              "0                         0                           1                    0   \n",
              "1                         0                           0                    0   \n",
              "2                         0                           0                    0   \n",
              "3                         0                           0                    0   \n",
              "4                         0                           1                    0   \n",
              "\n",
              "   main_category_Food  main_category_Design     ...      country_NL  \\\n",
              "0                   0                     0     ...               0   \n",
              "1                   0                     0     ...               0   \n",
              "2                   1                     0     ...               0   \n",
              "3                   0                     0     ...               0   \n",
              "4                   0                     0     ...               0   \n",
              "\n",
              "   country_NZ  country_CH  country_AT  country_BE  country_DK  country_HK  \\\n",
              "0           0           0           0           0           0           0   \n",
              "1           0           0           0           0           0           0   \n",
              "2           0           0           0           0           0           0   \n",
              "3           0           0           0           0           0           0   \n",
              "4           0           0           0           0           0           0   \n",
              "\n",
              "   country_LU  country_SG  country_JP  \n",
              "0           0           0           0  \n",
              "1           0           0           0  \n",
              "2           0           0           0  \n",
              "3           0           0           0  \n",
              "4           0           0           0  \n",
              "\n",
              "[5 rows x 42 columns]"
            ]
          },
          "metadata": {
            "tags": []
          },
          "execution_count": 6
        }
      ]
    },
    {
      "metadata": {
        "id": "N_ZNVGqCQf2_",
        "colab_type": "code",
        "outputId": "9cb99d56-2203-47f8-859b-358dbffca09f",
        "colab": {
          "base_uri": "https://localhost:8080/",
          "height": 35
        }
      },
      "cell_type": "code",
      "source": [
        "#diving the dataset into test and train\n",
        "trainingSet, testSet = train_test_split(df, test_size=0.2)\n",
        "trainingSet.shape\n",
        "testSet.shape\n",
        "train_y = trainingSet[['state']].copy()\n",
        "train_x = trainingSet.drop('state', 1)\n",
        "test_y = testSet[['state']].copy()\n",
        "test_x = testSet.drop('state', 1)\n",
        "train_y = keras.utils.to_categorical(train_y, num_classes=4, dtype='int32')\n",
        "test_y = keras.utils.to_categorical(test_y, num_classes=4, dtype='int32')\n",
        "test_x.shape\n",
        "\n",
        "#this is used \n",
        "#from sklearn.model_selection import train_test_split\n",
        "# Split the data\n",
        "#x_train, x_valid, y_train, y_valid = train_test_split(data, labels, test_size=0.33, shuffle= True)"
      ],
      "execution_count": 7,
      "outputs": [
        {
          "output_type": "execute_result",
          "data": {
            "text/plain": [
              "(7461, 41)"
            ]
          },
          "metadata": {
            "tags": []
          },
          "execution_count": 7
        }
      ]
    },
    {
      "metadata": {
        "id": "Lpi5djWfsj1_",
        "colab_type": "code",
        "outputId": "bb21dd75-ffb4-40b6-9de5-4288b6b598a3",
        "colab": {
          "base_uri": "https://localhost:8080/",
          "height": 4445
        }
      },
      "cell_type": "code",
      "source": [
        "#Building Artifcial Nerual Network\n",
        "classifier = Sequential()\n",
        "#First Hidden Layer\n",
        "classifier.add(Dense(264, activation='relu', kernel_initializer='random_normal', input_dim=41))\n",
        "#Second  Hidden Layer\n",
        "classifier.add(Dense(100, activation='relu', kernel_initializer='random_normal'))\n",
        "#third  Hidden Layer\n",
        "classifier.add(Dense(20, activation='relu', kernel_initializer='random_normal'))\n",
        "#Second  Hidden Layer\n",
        "classifier.add(Dense(18, activation='relu', kernel_initializer='random_normal'))\n",
        "#Output Layer\n",
        "classifier.add(Dense(4, activation='softmax', kernel_initializer='random_normal'))\n",
        "\n",
        "#Compiling the neural network\n",
        "classifier.compile(optimizer = 'adam',\n",
        "                   loss='categorical_crossentropy',\n",
        "                   metrics =['accuracy'])\n",
        "\n",
        "#Fitting the data to the training dataset\n",
        "history = classifier.fit(train_x,train_y, batch_size=64, epochs=100, validation_split=0.1)\n",
        "\n",
        "# list all data in history\n",
        "print(history.history.keys())\n",
        "# summarize history for accuracy\n",
        "plt.plot(history.history['acc'])\n",
        "plt.plot(history.history['val_acc'])\n",
        "plt.title('model accuracy')\n",
        "plt.ylabel('accuracy')\n",
        "plt.xlabel('epoch')\n",
        "plt.legend(['train', 'test'], loc='upper left')\n",
        "plt.show()\n",
        "# summarize history for loss\n",
        "plt.plot(history.history['loss'])\n",
        "plt.plot(history.history['val_loss'])\n",
        "plt.title('model loss')\n",
        "plt.ylabel('loss')\n",
        "plt.xlabel('epoch')\n",
        "plt.legend(['train', 'test'], loc='upper left')\n",
        "plt.show()\n",
        "\n",
        "eval_model=classifier.evaluate(train_x,train_y)\n",
        "eval_model\n",
        "\n",
        "y_pred=classifier.predict(test_x)\n",
        "y_pred =(y_pred>0.5)\n",
        "\n",
        "#evaluateion\n",
        "y_pred.shape\n",
        "\n",
        "#from sklearn.metrics import confusion_matrix\n",
        "#cm = confusion_matrix(test_y, y_pred)\n",
        "#rint(cm)"
      ],
      "execution_count": 10,
      "outputs": [
        {
          "output_type": "stream",
          "text": [
            "Train on 26856 samples, validate on 2985 samples\n",
            "Epoch 1/100\n",
            "26856/26856 [==============================] - 2s 57us/step - loss: 1.0094 - acc: 0.5287 - val_loss: 0.9580 - val_acc: 0.5380\n",
            "Epoch 2/100\n",
            "26856/26856 [==============================] - 1s 42us/step - loss: 0.9658 - acc: 0.5345 - val_loss: 0.9385 - val_acc: 0.5558\n",
            "Epoch 3/100\n",
            "26856/26856 [==============================] - 1s 42us/step - loss: 0.9500 - acc: 0.5509 - val_loss: 0.9341 - val_acc: 0.5655\n",
            "Epoch 4/100\n",
            "26856/26856 [==============================] - 1s 43us/step - loss: 0.9443 - acc: 0.5574 - val_loss: 0.9342 - val_acc: 0.5534\n",
            "Epoch 5/100\n",
            "26856/26856 [==============================] - 1s 42us/step - loss: 0.9407 - acc: 0.5623 - val_loss: 0.9237 - val_acc: 0.5652\n",
            "Epoch 6/100\n",
            "26856/26856 [==============================] - 1s 42us/step - loss: 0.9342 - acc: 0.5689 - val_loss: 0.9136 - val_acc: 0.5719\n",
            "Epoch 7/100\n",
            "26856/26856 [==============================] - 1s 42us/step - loss: 0.9210 - acc: 0.5831 - val_loss: 0.8897 - val_acc: 0.6090\n",
            "Epoch 8/100\n",
            "26856/26856 [==============================] - 1s 43us/step - loss: 0.8975 - acc: 0.6035 - val_loss: 0.8707 - val_acc: 0.6261\n",
            "Epoch 9/100\n",
            "26856/26856 [==============================] - 1s 43us/step - loss: 0.8675 - acc: 0.6249 - val_loss: 0.9142 - val_acc: 0.5920\n",
            "Epoch 10/100\n",
            "26856/26856 [==============================] - 1s 43us/step - loss: 0.8368 - acc: 0.6533 - val_loss: 0.7865 - val_acc: 0.6801\n",
            "Epoch 11/100\n",
            "26856/26856 [==============================] - 1s 42us/step - loss: 0.8101 - acc: 0.6737 - val_loss: 0.7759 - val_acc: 0.6928\n",
            "Epoch 12/100\n",
            "26856/26856 [==============================] - 1s 42us/step - loss: 0.7942 - acc: 0.6821 - val_loss: 0.7545 - val_acc: 0.7055\n",
            "Epoch 13/100\n",
            "26856/26856 [==============================] - 1s 42us/step - loss: 0.7831 - acc: 0.6882 - val_loss: 0.7542 - val_acc: 0.7042\n",
            "Epoch 14/100\n",
            "26856/26856 [==============================] - 1s 42us/step - loss: 0.7657 - acc: 0.7006 - val_loss: 0.7573 - val_acc: 0.7079\n",
            "Epoch 15/100\n",
            "26856/26856 [==============================] - 1s 43us/step - loss: 0.7551 - acc: 0.7054 - val_loss: 0.7250 - val_acc: 0.7126\n",
            "Epoch 16/100\n",
            "26856/26856 [==============================] - 1s 44us/step - loss: 0.7577 - acc: 0.7043 - val_loss: 0.7327 - val_acc: 0.7152\n",
            "Epoch 17/100\n",
            "26856/26856 [==============================] - 1s 45us/step - loss: 0.7381 - acc: 0.7162 - val_loss: 0.7054 - val_acc: 0.7387\n",
            "Epoch 18/100\n",
            "26856/26856 [==============================] - 1s 45us/step - loss: 0.7301 - acc: 0.7214 - val_loss: 0.6990 - val_acc: 0.7353\n",
            "Epoch 19/100\n",
            "26856/26856 [==============================] - 1s 42us/step - loss: 0.7214 - acc: 0.7272 - val_loss: 0.7017 - val_acc: 0.7300\n",
            "Epoch 20/100\n",
            "26856/26856 [==============================] - 1s 41us/step - loss: 0.7176 - acc: 0.7293 - val_loss: 0.6810 - val_acc: 0.7477\n",
            "Epoch 21/100\n",
            "26856/26856 [==============================] - 1s 42us/step - loss: 0.7075 - acc: 0.7319 - val_loss: 0.6843 - val_acc: 0.7387\n",
            "Epoch 22/100\n",
            "26856/26856 [==============================] - 1s 43us/step - loss: 0.7028 - acc: 0.7338 - val_loss: 0.7259 - val_acc: 0.7109\n",
            "Epoch 23/100\n",
            "26856/26856 [==============================] - 1s 43us/step - loss: 0.6991 - acc: 0.7339 - val_loss: 0.6757 - val_acc: 0.7578\n",
            "Epoch 24/100\n",
            "26856/26856 [==============================] - 1s 42us/step - loss: 0.6868 - acc: 0.7448 - val_loss: 0.6693 - val_acc: 0.7554\n",
            "Epoch 25/100\n",
            "26856/26856 [==============================] - 1s 42us/step - loss: 0.6836 - acc: 0.7444 - val_loss: 0.6787 - val_acc: 0.7601\n",
            "Epoch 26/100\n",
            "26856/26856 [==============================] - 1s 43us/step - loss: 0.6850 - acc: 0.7436 - val_loss: 0.6897 - val_acc: 0.7434\n",
            "Epoch 27/100\n",
            "26856/26856 [==============================] - 1s 43us/step - loss: 0.6831 - acc: 0.7423 - val_loss: 0.7450 - val_acc: 0.7162\n",
            "Epoch 28/100\n",
            "26856/26856 [==============================] - 1s 42us/step - loss: 0.6797 - acc: 0.7453 - val_loss: 0.6686 - val_acc: 0.7511\n",
            "Epoch 29/100\n",
            "26856/26856 [==============================] - 1s 42us/step - loss: 0.6729 - acc: 0.7468 - val_loss: 0.6597 - val_acc: 0.7611\n",
            "Epoch 30/100\n",
            "26856/26856 [==============================] - 1s 42us/step - loss: 0.6706 - acc: 0.7487 - val_loss: 0.6567 - val_acc: 0.7678\n",
            "Epoch 31/100\n",
            "26856/26856 [==============================] - 1s 42us/step - loss: 0.6667 - acc: 0.7544 - val_loss: 0.6827 - val_acc: 0.7444\n",
            "Epoch 32/100\n",
            "26856/26856 [==============================] - 1s 42us/step - loss: 0.6588 - acc: 0.7550 - val_loss: 0.6638 - val_acc: 0.7575\n",
            "Epoch 33/100\n",
            "26856/26856 [==============================] - 1s 43us/step - loss: 0.6649 - acc: 0.7520 - val_loss: 0.6577 - val_acc: 0.7494\n",
            "Epoch 34/100\n",
            "26856/26856 [==============================] - 1s 42us/step - loss: 0.6614 - acc: 0.7522 - val_loss: 0.6336 - val_acc: 0.7759\n",
            "Epoch 35/100\n",
            "26856/26856 [==============================] - 1s 43us/step - loss: 0.6624 - acc: 0.7546 - val_loss: 0.6462 - val_acc: 0.7591\n",
            "Epoch 36/100\n",
            "26856/26856 [==============================] - 1s 43us/step - loss: 0.6586 - acc: 0.7532 - val_loss: 0.6319 - val_acc: 0.7765\n",
            "Epoch 37/100\n",
            "26856/26856 [==============================] - 1s 43us/step - loss: 0.6564 - acc: 0.7564 - val_loss: 0.6198 - val_acc: 0.7812\n",
            "Epoch 38/100\n",
            "26856/26856 [==============================] - 1s 42us/step - loss: 0.6458 - acc: 0.7593 - val_loss: 0.6385 - val_acc: 0.7605\n",
            "Epoch 39/100\n",
            "26856/26856 [==============================] - 1s 43us/step - loss: 0.6562 - acc: 0.7554 - val_loss: 0.6217 - val_acc: 0.7745\n",
            "Epoch 40/100\n",
            "26856/26856 [==============================] - 1s 43us/step - loss: 0.6540 - acc: 0.7577 - val_loss: 0.6468 - val_acc: 0.7588\n",
            "Epoch 41/100\n",
            "26856/26856 [==============================] - 1s 42us/step - loss: 0.6433 - acc: 0.7612 - val_loss: 0.6154 - val_acc: 0.7762\n",
            "Epoch 42/100\n",
            "26856/26856 [==============================] - 1s 42us/step - loss: 0.6473 - acc: 0.7602 - val_loss: 0.6129 - val_acc: 0.7873\n",
            "Epoch 43/100\n",
            "26856/26856 [==============================] - 1s 43us/step - loss: 0.6410 - acc: 0.7645 - val_loss: 0.6139 - val_acc: 0.7759\n",
            "Epoch 44/100\n",
            "26856/26856 [==============================] - 1s 43us/step - loss: 0.6343 - acc: 0.7657 - val_loss: 0.6098 - val_acc: 0.7809\n",
            "Epoch 45/100\n",
            "26856/26856 [==============================] - 1s 42us/step - loss: 0.6423 - acc: 0.7628 - val_loss: 0.6654 - val_acc: 0.7548\n",
            "Epoch 46/100\n",
            "26856/26856 [==============================] - 1s 42us/step - loss: 0.6364 - acc: 0.7639 - val_loss: 0.6386 - val_acc: 0.7698\n",
            "Epoch 47/100\n",
            "26856/26856 [==============================] - 1s 42us/step - loss: 0.6344 - acc: 0.7664 - val_loss: 0.6097 - val_acc: 0.7779\n",
            "Epoch 48/100\n",
            "26856/26856 [==============================] - 1s 43us/step - loss: 0.6360 - acc: 0.7634 - val_loss: 0.5992 - val_acc: 0.7856\n",
            "Epoch 49/100\n",
            "26856/26856 [==============================] - 1s 43us/step - loss: 0.6280 - acc: 0.7685 - val_loss: 0.6343 - val_acc: 0.7749\n",
            "Epoch 50/100\n",
            "26856/26856 [==============================] - 1s 43us/step - loss: 0.6307 - acc: 0.7669 - val_loss: 0.6303 - val_acc: 0.7722\n",
            "Epoch 51/100\n",
            "26856/26856 [==============================] - 1s 42us/step - loss: 0.6388 - acc: 0.7632 - val_loss: 0.6124 - val_acc: 0.7806\n",
            "Epoch 52/100\n",
            "26856/26856 [==============================] - 1s 43us/step - loss: 0.6302 - acc: 0.7660 - val_loss: 0.6183 - val_acc: 0.7739\n",
            "Epoch 53/100\n",
            "26856/26856 [==============================] - 1s 42us/step - loss: 0.6293 - acc: 0.7665 - val_loss: 0.6528 - val_acc: 0.7658\n",
            "Epoch 54/100\n",
            "26856/26856 [==============================] - 1s 43us/step - loss: 0.6260 - acc: 0.7694 - val_loss: 0.6085 - val_acc: 0.7796\n",
            "Epoch 55/100\n",
            "26856/26856 [==============================] - 1s 43us/step - loss: 0.6235 - acc: 0.7694 - val_loss: 0.6147 - val_acc: 0.7822\n",
            "Epoch 56/100\n",
            "26856/26856 [==============================] - 1s 42us/step - loss: 0.6253 - acc: 0.7677 - val_loss: 0.6030 - val_acc: 0.7839\n",
            "Epoch 57/100\n",
            "26856/26856 [==============================] - 1s 42us/step - loss: 0.6329 - acc: 0.7663 - val_loss: 0.6170 - val_acc: 0.7796\n",
            "Epoch 58/100\n",
            "26856/26856 [==============================] - 1s 43us/step - loss: 0.6241 - acc: 0.7703 - val_loss: 0.6249 - val_acc: 0.7685\n",
            "Epoch 59/100\n",
            "26856/26856 [==============================] - 1s 43us/step - loss: 0.6158 - acc: 0.7726 - val_loss: 0.6486 - val_acc: 0.7591\n",
            "Epoch 60/100\n",
            "26856/26856 [==============================] - 1s 43us/step - loss: 0.6205 - acc: 0.7714 - val_loss: 0.6381 - val_acc: 0.7685\n",
            "Epoch 61/100\n",
            "26856/26856 [==============================] - 1s 42us/step - loss: 0.6185 - acc: 0.7739 - val_loss: 0.6185 - val_acc: 0.7682\n",
            "Epoch 62/100\n",
            "26856/26856 [==============================] - 1s 42us/step - loss: 0.6173 - acc: 0.7733 - val_loss: 0.6175 - val_acc: 0.7732\n",
            "Epoch 63/100\n",
            "26856/26856 [==============================] - 1s 41us/step - loss: 0.6133 - acc: 0.7743 - val_loss: 0.6505 - val_acc: 0.7688\n",
            "Epoch 64/100\n",
            "26856/26856 [==============================] - 1s 41us/step - loss: 0.6181 - acc: 0.7738 - val_loss: 0.6142 - val_acc: 0.7786\n",
            "Epoch 65/100\n",
            "26856/26856 [==============================] - 1s 42us/step - loss: 0.6206 - acc: 0.7699 - val_loss: 0.5960 - val_acc: 0.7886\n",
            "Epoch 66/100\n",
            "26856/26856 [==============================] - 1s 42us/step - loss: 0.6143 - acc: 0.7729 - val_loss: 0.6007 - val_acc: 0.7832\n",
            "Epoch 67/100\n",
            "26856/26856 [==============================] - 1s 42us/step - loss: 0.6161 - acc: 0.7712 - val_loss: 0.6757 - val_acc: 0.7631\n",
            "Epoch 68/100\n",
            "26856/26856 [==============================] - 1s 42us/step - loss: 0.6122 - acc: 0.7736 - val_loss: 0.6038 - val_acc: 0.7843\n",
            "Epoch 69/100\n",
            "26856/26856 [==============================] - 1s 42us/step - loss: 0.6069 - acc: 0.7761 - val_loss: 0.6357 - val_acc: 0.7698\n",
            "Epoch 70/100\n",
            "26856/26856 [==============================] - 1s 43us/step - loss: 0.6190 - acc: 0.7698 - val_loss: 0.6021 - val_acc: 0.7786\n",
            "Epoch 71/100\n",
            "26856/26856 [==============================] - 1s 44us/step - loss: 0.6057 - acc: 0.7768 - val_loss: 0.5936 - val_acc: 0.7839\n",
            "Epoch 72/100\n",
            "26856/26856 [==============================] - 1s 43us/step - loss: 0.6064 - acc: 0.7763 - val_loss: 0.6324 - val_acc: 0.7745\n",
            "Epoch 73/100\n",
            "26856/26856 [==============================] - 1s 44us/step - loss: 0.6094 - acc: 0.7747 - val_loss: 0.6164 - val_acc: 0.7709\n",
            "Epoch 74/100\n",
            "26856/26856 [==============================] - 1s 43us/step - loss: 0.6126 - acc: 0.7714 - val_loss: 0.6239 - val_acc: 0.7832\n",
            "Epoch 75/100\n",
            "26856/26856 [==============================] - 1s 43us/step - loss: 0.6132 - acc: 0.7749 - val_loss: 0.5992 - val_acc: 0.7879\n",
            "Epoch 76/100\n",
            "26856/26856 [==============================] - 1s 43us/step - loss: 0.5999 - acc: 0.7780 - val_loss: 0.5911 - val_acc: 0.7859\n",
            "Epoch 77/100\n",
            "26856/26856 [==============================] - 1s 43us/step - loss: 0.6086 - acc: 0.7751 - val_loss: 0.5985 - val_acc: 0.7836\n",
            "Epoch 78/100\n",
            "26856/26856 [==============================] - 1s 42us/step - loss: 0.6020 - acc: 0.7799 - val_loss: 0.5937 - val_acc: 0.7866\n",
            "Epoch 79/100\n",
            "26856/26856 [==============================] - 1s 42us/step - loss: 0.6025 - acc: 0.7773 - val_loss: 0.6087 - val_acc: 0.7809\n",
            "Epoch 80/100\n",
            "26856/26856 [==============================] - 1s 43us/step - loss: 0.6047 - acc: 0.7785 - val_loss: 0.6030 - val_acc: 0.7910\n",
            "Epoch 81/100\n",
            "26856/26856 [==============================] - 1s 42us/step - loss: 0.6083 - acc: 0.7746 - val_loss: 0.6348 - val_acc: 0.7685\n",
            "Epoch 82/100\n",
            "26856/26856 [==============================] - 1s 42us/step - loss: 0.5968 - acc: 0.7803 - val_loss: 0.6314 - val_acc: 0.7799\n",
            "Epoch 83/100\n",
            "26856/26856 [==============================] - 1s 43us/step - loss: 0.5994 - acc: 0.7787 - val_loss: 0.5907 - val_acc: 0.7853\n",
            "Epoch 84/100\n",
            "26856/26856 [==============================] - 1s 43us/step - loss: 0.5933 - acc: 0.7800 - val_loss: 0.5957 - val_acc: 0.7876\n",
            "Epoch 85/100\n",
            "26856/26856 [==============================] - 1s 42us/step - loss: 0.5954 - acc: 0.7809 - val_loss: 0.5989 - val_acc: 0.7846\n",
            "Epoch 86/100\n",
            "26856/26856 [==============================] - 1s 43us/step - loss: 0.5992 - acc: 0.7789 - val_loss: 0.5988 - val_acc: 0.7896\n",
            "Epoch 87/100\n",
            "26856/26856 [==============================] - 1s 42us/step - loss: 0.5940 - acc: 0.7809 - val_loss: 0.6275 - val_acc: 0.7668\n",
            "Epoch 88/100\n",
            "26856/26856 [==============================] - 1s 42us/step - loss: 0.5916 - acc: 0.7808 - val_loss: 0.5853 - val_acc: 0.7953\n",
            "Epoch 89/100\n",
            "26856/26856 [==============================] - 1s 42us/step - loss: 0.5909 - acc: 0.7831 - val_loss: 0.6010 - val_acc: 0.7796\n",
            "Epoch 90/100\n",
            "26856/26856 [==============================] - 1s 45us/step - loss: 0.5873 - acc: 0.7841 - val_loss: 0.6162 - val_acc: 0.7635\n",
            "Epoch 91/100\n",
            "26856/26856 [==============================] - 1s 43us/step - loss: 0.5919 - acc: 0.7818 - val_loss: 0.6090 - val_acc: 0.7719\n",
            "Epoch 92/100\n",
            "26856/26856 [==============================] - 1s 42us/step - loss: 0.5919 - acc: 0.7823 - val_loss: 0.5911 - val_acc: 0.7899\n",
            "Epoch 93/100\n",
            "26856/26856 [==============================] - 1s 42us/step - loss: 0.5877 - acc: 0.7819 - val_loss: 0.6091 - val_acc: 0.7853\n",
            "Epoch 94/100\n",
            "26856/26856 [==============================] - 1s 42us/step - loss: 0.5941 - acc: 0.7802 - val_loss: 0.5806 - val_acc: 0.7966\n",
            "Epoch 95/100\n",
            "26856/26856 [==============================] - 1s 42us/step - loss: 0.5908 - acc: 0.7816 - val_loss: 0.6164 - val_acc: 0.7779\n",
            "Epoch 96/100\n",
            "26856/26856 [==============================] - 1s 43us/step - loss: 0.5850 - acc: 0.7847 - val_loss: 0.5788 - val_acc: 0.7926\n",
            "Epoch 97/100\n",
            "26856/26856 [==============================] - 1s 43us/step - loss: 0.5922 - acc: 0.7796 - val_loss: 0.5942 - val_acc: 0.7879\n",
            "Epoch 98/100\n",
            "26856/26856 [==============================] - 1s 43us/step - loss: 0.5835 - acc: 0.7858 - val_loss: 0.5830 - val_acc: 0.7970\n",
            "Epoch 99/100\n",
            "26856/26856 [==============================] - 1s 43us/step - loss: 0.5782 - acc: 0.7875 - val_loss: 0.5870 - val_acc: 0.7906\n",
            "Epoch 100/100\n",
            "26856/26856 [==============================] - 1s 42us/step - loss: 0.5868 - acc: 0.7838 - val_loss: 0.6079 - val_acc: 0.7786\n",
            "dict_keys(['val_loss', 'val_acc', 'loss', 'acc'])\n"
          ],
          "name": "stdout"
        },
        {
          "output_type": "display_data",
          "data": {
            "image/png": "[encoded data removed]",
            "text/plain": [
              "<Figure size 576x396 with 1 Axes>"
            ]
          },
          "metadata": {
            "tags": []
          }
        },
        {
          "output_type": "display_data",
          "data": {
            "image/png": "[encoded data removed]",
            "text/plain": [
              "<Figure size 576x396 with 1 Axes>"
            ]
          },
          "metadata": {
            "tags": []
          }
        },
        {
          "output_type": "stream",
          "text": [
            "29841/29841 [==============================] - 1s 25us/step\n"
          ],
          "name": "stdout"
        },
        {
          "output_type": "execute_result",
          "data": {
            "text/plain": [
              "(7461, 4)"
            ]
          },
          "metadata": {
            "tags": []
          },
          "execution_count": 10
        }
      ]
    },
    {
      "metadata": {
        "id": "3WrLXQNRhjRC",
        "colab_type": "text"
      },
      "cell_type": "markdown",
      "source": [
        ""
      ]
    },
    {
      "metadata": {
        "id": "NPwYHpwUVAMv",
        "colab_type": "code",
        "outputId": "d9ea0cd7-cdb7-4c82-a45c-a161e4b90f59",
        "colab": {
          "base_uri": "https://localhost:8080/",
          "height": 90
        }
      },
      "cell_type": "code",
      "source": [
        "#Implementing Artifcial Neural Network\n",
        "#Drawaing confusion matrix\n",
        "y_test_non_category = [ np.argmax(t) for t in test_y]# transoforming from multiple column output to single column\n",
        "y_predict_non_category = [ np.argmax(t) for t in y_pred]# same as above\n",
        "\n",
        "from sklearn.metrics import confusion_matrix\n",
        "conf_mat = confusion_matrix(y_test_non_category, y_predict_non_category)\n",
        "conf_mat"
      ],
      "execution_count": 9,
      "outputs": [
        {
          "output_type": "execute_result",
          "data": {
            "text/plain": [
              "array([[3716,  243,    1,    2],\n",
              "       [ 526, 2093,    0,    2],\n",
              "       [  50,   11,    0,    0],\n",
              "       [ 773,   42,    0,    2]])"
            ]
          },
          "metadata": {
            "tags": []
          },
          "execution_count": 9
        }
      ]
    },
    {
      "metadata": {
        "id": "O2qUEENqn224",
        "colab_type": "code",
        "outputId": "2e11d3b5-e67b-4b0b-ef8d-354eaffedf3e",
        "colab": {
          "base_uri": "https://localhost:8080/",
          "height": 345
        }
      },
      "cell_type": "code",
      "source": [
        "from IPython.display import Image\n",
        "Image('model_plot.png')\n",
        "plot_model(classifier)\n",
        "print(classifier.summary())"
      ],
      "execution_count": 11,
      "outputs": [
        {
          "output_type": "stream",
          "text": [
            "_________________________________________________________________\n",
            "Layer (type)                 Output Shape              Param #   \n",
            "=================================================================\n",
            "dense_6 (Dense)              (None, 264)               11088     \n",
            "_________________________________________________________________\n",
            "dense_7 (Dense)              (None, 100)               26500     \n",
            "_________________________________________________________________\n",
            "dense_8 (Dense)              (None, 20)                2020      \n",
            "_________________________________________________________________\n",
            "dense_9 (Dense)              (None, 18)                378       \n",
            "_________________________________________________________________\n",
            "dense_10 (Dense)             (None, 4)                 76        \n",
            "=================================================================\n",
            "Total params: 40,062\n",
            "Trainable params: 40,062\n",
            "Non-trainable params: 0\n",
            "_________________________________________________________________\n",
            "None\n"
          ],
          "name": "stdout"
        }
      ]
    }
  ]
}